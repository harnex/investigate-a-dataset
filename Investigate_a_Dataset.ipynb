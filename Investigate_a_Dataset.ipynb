{
 "cells": [
  {
   "cell_type": "markdown",
   "metadata": {},
   "source": [
    "\n",
    "# Project: Investigating the TMDb Movies Dataset\n",
    "\n",
    "## Table of Contents\n",
    "<ul>\n",
    "<li><a href=\"#intro\">Introduction</a></li>\n",
    "<li><a href=\"#wrangling\">Data Wrangling</a></li>\n",
    "<li><a href=\"#eda\">Exploratory Data Analysis</a></li>\n",
    "<li><a href=\"#conclusions\">Conclusions</a></li>\n",
    "</ul>"
   ]
  },
  {
   "cell_type": "markdown",
   "metadata": {},
   "source": [
    "<a id='intro'></a>\n",
    "## Introduction\n",
    "\n",
    "### Dataset Description \n",
    "This dataset contains information about movies collected from the movies database, TMDb. The data provides information related to the budget, revenue, popularity, votes, directors, studios, release dates and genres of the movies among others. The dataset has information for about 10,000 movies, covering over four decades. More details about the dataset can be found at the original data page on <a href=\"https://www.kaggle.com/datasets/tmdb/tmdb-movie-metadata?select=tmdb_5000_movies.csv\">Kaggle</a>.\n",
    "\n",
    "### Questions\n",
    "For this project, will find out what movie runtimes and movie ratings are associated with high revenue. Then will also explore how revenue from movies has changed over time and whether newer (2000s) movies are generating higher levels of revenue than older (90s) movies. Specifically, the analysis will explore the following questions:\n",
    "1. Which movie runtimes are associated with high revenue?\n",
    "2. What movie ratings, based on the vote average are associated with high revenue?\n",
    "3. How has mean revenue from movies changed over time?\n",
    "\n",
    "In the context of this project, the revenue used is the adjusted revenue."
   ]
  },
  {
   "cell_type": "code",
   "execution_count": 1,
   "metadata": {},
   "outputs": [],
   "source": [
    "# Importing the necessary packages for this project\n",
    "import pandas as pd\n",
    "import numpy as np\n",
    "from matplotlib import pyplot as plt\n",
    "import seaborn as sns\n",
    "\n",
    "%matplotlib inline\n"
   ]
  },
  {
   "cell_type": "code",
   "execution_count": 35,
   "metadata": {},
   "outputs": [],
   "source": [
    "# Upgrade pandas to use dataframe.explode() function. \n",
    "#!pip install --upgrade pandas==0.25.0"
   ]
  },
  {
   "cell_type": "markdown",
   "metadata": {},
   "source": [
    "<a id='wrangling'></a>\n",
    "## Data Wrangling\n",
    "\n",
    "\n",
    "### General Properties"
   ]
  },
  {
   "cell_type": "code",
   "execution_count": 2,
   "metadata": {},
   "outputs": [],
   "source": [
    "# Load the data\n",
    "movies_df = pd.read_csv('tmdb-movies.csv')"
   ]
  },
  {
   "cell_type": "code",
   "execution_count": 3,
   "metadata": {},
   "outputs": [
    {
     "name": "stdout",
     "output_type": "stream",
     "text": [
      "<class 'pandas.core.frame.DataFrame'>\n",
      "RangeIndex: 10866 entries, 0 to 10865\n",
      "Data columns (total 21 columns):\n",
      " #   Column                Non-Null Count  Dtype  \n",
      "---  ------                --------------  -----  \n",
      " 0   id                    10866 non-null  int64  \n",
      " 1   imdb_id               10856 non-null  object \n",
      " 2   popularity            10866 non-null  float64\n",
      " 3   budget                10866 non-null  int64  \n",
      " 4   revenue               10866 non-null  int64  \n",
      " 5   original_title        10866 non-null  object \n",
      " 6   cast                  10790 non-null  object \n",
      " 7   homepage              2936 non-null   object \n",
      " 8   director              10822 non-null  object \n",
      " 9   tagline               8042 non-null   object \n",
      " 10  keywords              9373 non-null   object \n",
      " 11  overview              10862 non-null  object \n",
      " 12  runtime               10866 non-null  int64  \n",
      " 13  genres                10843 non-null  object \n",
      " 14  production_companies  9836 non-null   object \n",
      " 15  release_date          10866 non-null  object \n",
      " 16  vote_count            10866 non-null  int64  \n",
      " 17  vote_average          10866 non-null  float64\n",
      " 18  release_year          10866 non-null  int64  \n",
      " 19  budget_adj            10866 non-null  float64\n",
      " 20  revenue_adj           10866 non-null  float64\n",
      "dtypes: float64(4), int64(6), object(11)\n",
      "memory usage: 1.7+ MB\n"
     ]
    }
   ],
   "source": [
    "# Information about the columns\n",
    "movies_df.info()"
   ]
  },
  {
   "cell_type": "code",
   "execution_count": 38,
   "metadata": {},
   "outputs": [
    {
     "data": {
      "text/html": [
       "<div>\n",
       "<style scoped>\n",
       "    .dataframe tbody tr th:only-of-type {\n",
       "        vertical-align: middle;\n",
       "    }\n",
       "\n",
       "    .dataframe tbody tr th {\n",
       "        vertical-align: top;\n",
       "    }\n",
       "\n",
       "    .dataframe thead th {\n",
       "        text-align: right;\n",
       "    }\n",
       "</style>\n",
       "<table border=\"1\" class=\"dataframe\">\n",
       "  <thead>\n",
       "    <tr style=\"text-align: right;\">\n",
       "      <th></th>\n",
       "      <th>runtime</th>\n",
       "      <th>vote_average</th>\n",
       "      <th>release_year</th>\n",
       "      <th>revenue_adj</th>\n",
       "    </tr>\n",
       "  </thead>\n",
       "  <tbody>\n",
       "    <tr>\n",
       "      <th>count</th>\n",
       "      <td>10866.000000</td>\n",
       "      <td>10866.000000</td>\n",
       "      <td>10866.000000</td>\n",
       "      <td>1.086600e+04</td>\n",
       "    </tr>\n",
       "    <tr>\n",
       "      <th>mean</th>\n",
       "      <td>102.070863</td>\n",
       "      <td>5.974922</td>\n",
       "      <td>2001.322658</td>\n",
       "      <td>5.136436e+07</td>\n",
       "    </tr>\n",
       "    <tr>\n",
       "      <th>std</th>\n",
       "      <td>31.381405</td>\n",
       "      <td>0.935142</td>\n",
       "      <td>12.812941</td>\n",
       "      <td>1.446325e+08</td>\n",
       "    </tr>\n",
       "    <tr>\n",
       "      <th>min</th>\n",
       "      <td>0.000000</td>\n",
       "      <td>1.500000</td>\n",
       "      <td>1960.000000</td>\n",
       "      <td>0.000000e+00</td>\n",
       "    </tr>\n",
       "    <tr>\n",
       "      <th>25%</th>\n",
       "      <td>90.000000</td>\n",
       "      <td>5.400000</td>\n",
       "      <td>1995.000000</td>\n",
       "      <td>0.000000e+00</td>\n",
       "    </tr>\n",
       "    <tr>\n",
       "      <th>50%</th>\n",
       "      <td>99.000000</td>\n",
       "      <td>6.000000</td>\n",
       "      <td>2006.000000</td>\n",
       "      <td>0.000000e+00</td>\n",
       "    </tr>\n",
       "    <tr>\n",
       "      <th>75%</th>\n",
       "      <td>111.000000</td>\n",
       "      <td>6.600000</td>\n",
       "      <td>2011.000000</td>\n",
       "      <td>3.369710e+07</td>\n",
       "    </tr>\n",
       "    <tr>\n",
       "      <th>max</th>\n",
       "      <td>900.000000</td>\n",
       "      <td>9.200000</td>\n",
       "      <td>2015.000000</td>\n",
       "      <td>2.827124e+09</td>\n",
       "    </tr>\n",
       "  </tbody>\n",
       "</table>\n",
       "</div>"
      ],
      "text/plain": [
       "            runtime  vote_average  release_year   revenue_adj\n",
       "count  10866.000000  10866.000000  10866.000000  1.086600e+04\n",
       "mean     102.070863      5.974922   2001.322658  5.136436e+07\n",
       "std       31.381405      0.935142     12.812941  1.446325e+08\n",
       "min        0.000000      1.500000   1960.000000  0.000000e+00\n",
       "25%       90.000000      5.400000   1995.000000  0.000000e+00\n",
       "50%       99.000000      6.000000   2006.000000  0.000000e+00\n",
       "75%      111.000000      6.600000   2011.000000  3.369710e+07\n",
       "max      900.000000      9.200000   2015.000000  2.827124e+09"
      ]
     },
     "execution_count": 38,
     "metadata": {},
     "output_type": "execute_result"
    }
   ],
   "source": [
    "# Descriptive Statistics of the data\n",
    "movies_df[['runtime', 'vote_average', 'release_year', 'revenue_adj']].describe()"
   ]
  },
  {
   "cell_type": "code",
   "execution_count": 39,
   "metadata": {},
   "outputs": [
    {
     "data": {
      "text/plain": [
       "1"
      ]
     },
     "execution_count": 39,
     "metadata": {},
     "output_type": "execute_result"
    }
   ],
   "source": [
    "# Checking for duplicates\n",
    "np.sum(movies_df.duplicated())"
   ]
  },
  {
   "cell_type": "code",
   "execution_count": 40,
   "metadata": {},
   "outputs": [
    {
     "data": {
      "text/plain": [
       "id                         0\n",
       "imdb_id                   10\n",
       "popularity                 0\n",
       "budget                     0\n",
       "revenue                    0\n",
       "original_title             0\n",
       "cast                      76\n",
       "homepage                7930\n",
       "director                  44\n",
       "tagline                 2824\n",
       "keywords                1493\n",
       "overview                   4\n",
       "runtime                    0\n",
       "genres                    23\n",
       "production_companies    1030\n",
       "release_date               0\n",
       "vote_count                 0\n",
       "vote_average               0\n",
       "release_year               0\n",
       "budget_adj                 0\n",
       "revenue_adj                0\n",
       "dtype: int64"
      ]
     },
     "execution_count": 40,
     "metadata": {},
     "output_type": "execute_result"
    }
   ],
   "source": [
    "# Checking for missing values\n",
    "np.sum(movies_df.isnull())"
   ]
  },
  {
   "cell_type": "code",
   "execution_count": 41,
   "metadata": {},
   "outputs": [
    {
     "data": {
      "text/plain": [
       "(1315, 21)"
      ]
     },
     "execution_count": 41,
     "metadata": {},
     "output_type": "execute_result"
    }
   ],
   "source": [
    "# Checking the number of movies with a positive value for budget but 0 value for revenue\n",
    "movies_df.query('revenue_adj == 0 & budget_adj > 0').shape"
   ]
  },
  {
   "cell_type": "markdown",
   "metadata": {},
   "source": [
    "\n",
    "### Data Cleaning"
   ]
  },
  {
   "cell_type": "markdown",
   "metadata": {
    "collapsed": true
   },
   "source": [
    "#### Dealing with Duplicates\n",
    "For this project, I want to work with only unique movies in the data. So I will delete the duplicates."
   ]
  },
  {
   "cell_type": "code",
   "execution_count": 42,
   "metadata": {},
   "outputs": [
    {
     "data": {
      "text/plain": [
       "(10865, 21)"
      ]
     },
     "execution_count": 42,
     "metadata": {},
     "output_type": "execute_result"
    }
   ],
   "source": [
    "# Deleting duplicates\n",
    "movies_df.drop_duplicates(inplace=True)\n",
    "\n",
    "# Confirm the deletion\n",
    "movies_df.shape"
   ]
  },
  {
   "cell_type": "markdown",
   "metadata": {},
   "source": [
    "#### Dealing with missing values\n",
    "The `revenue_adj` column does not have any missing values. And although there are a number of movies with a positive budget but 0 value for revenue (which is unusual), I will not drop the rows for this analysis. Similarly, the other columns of interest (runtime, vote_average and release year) do not have any missing values."
   ]
  },
  {
   "cell_type": "markdown",
   "metadata": {},
   "source": [
    "#### Dealing with runtime values\n",
    "The minimum value for `runtime` is 0, which shows that some movies have 0 length, which is unusual and not appropriate for this analysis. Therefore, for the analysis of `runtime`, a new dataframe will be created, which will not have values of 0 for `runtime`."
   ]
  },
  {
   "cell_type": "code",
   "execution_count": 43,
   "metadata": {},
   "outputs": [
    {
     "data": {
      "text/plain": [
       "(31, 21)"
      ]
     },
     "execution_count": 43,
     "metadata": {},
     "output_type": "execute_result"
    }
   ],
   "source": [
    "# Checking the number of movies with values of 0 for runtime\n",
    "movies_df.query('runtime == 0').shape"
   ]
  },
  {
   "cell_type": "code",
   "execution_count": 44,
   "metadata": {},
   "outputs": [
    {
     "data": {
      "text/plain": [
       "(10834, 21)"
      ]
     },
     "execution_count": 44,
     "metadata": {},
     "output_type": "execute_result"
    }
   ],
   "source": [
    "# Creating a new dataframe without values of 0 for runtime\n",
    "runtime_df = movies_df.query('runtime != 0').copy()\n",
    "runtime_df.shape"
   ]
  },
  {
   "cell_type": "markdown",
   "metadata": {},
   "source": [
    "### New Features"
   ]
  },
  {
   "cell_type": "markdown",
   "metadata": {},
   "source": [
    "#### Creating bins for runtime\n",
    "The association between `runtime` and revenue will be analyzed by creating a new column with bins for different values of runtime. The new\n",
    "column will have five intervals: 'Less than 60', '60 - 90', '91 - 180', '181 - 300' and 'Above 300'.\n",
    "\n",
    "Since the analysis for movie rating also requires creating bins for different values of vote_average, will start by defining a function that creates bins so that it can be used in both cases. "
   ]
  },
  {
   "cell_type": "code",
   "execution_count": 45,
   "metadata": {},
   "outputs": [],
   "source": [
    "# Define a function that uses pandas' cut function to create bins for the given data\n",
    "def create_bins(data, intervals, labels, include_lower_limit=False):\n",
    "    return pd.cut(data, intervals, labels = labels, include_lowest=include_lower_limit)"
   ]
  },
  {
   "cell_type": "code",
   "execution_count": 46,
   "metadata": {},
   "outputs": [
    {
     "data": {
      "text/plain": [
       "(10834, 22)"
      ]
     },
     "execution_count": 46,
     "metadata": {},
     "output_type": "execute_result"
    }
   ],
   "source": [
    "# Create a column with bins for different values of runtime using the create_bins function\n",
    "runtime_df['runtime_bins'] = create_bins(runtime_df.runtime, [0, 60, 90, 180, 300, 900], labels=['Less than 60', '60-90', '91-180', '181-300', 'Above 300'], include_lower_limit=True)\n",
    "runtime_df.shape"
   ]
  },
  {
   "cell_type": "markdown",
   "metadata": {},
   "source": [
    "#### Creating bins for vote_average\n",
    "The association between movie rating and revenue will be analyzed by creating a new column with bins for different values of vote_average."
   ]
  },
  {
   "cell_type": "code",
   "execution_count": 47,
   "metadata": {},
   "outputs": [
    {
     "data": {
      "text/plain": [
       "(10865, 22)"
      ]
     },
     "execution_count": 47,
     "metadata": {},
     "output_type": "execute_result"
    }
   ],
   "source": [
    "# Create a column with bins for different values of vote_average using the create_bins function\n",
    "movies_df['vote_average_bins'] = create_bins(movies_df.vote_average, [0, 5, 10], labels=['0-5', '5-10'])\n",
    "movies_df.shape"
   ]
  },
  {
   "cell_type": "markdown",
   "metadata": {},
   "source": [
    "<a id='eda'></a>\n",
    "## Exploratory Data Analysis\n",
    "\n",
    "To ease the labeling of plots used in this section, a function that provides the title and axis labels is defined on the outset."
   ]
  },
  {
   "cell_type": "code",
   "execution_count": 48,
   "metadata": {},
   "outputs": [],
   "source": [
    "# Function for labeling charts\n",
    "def set_plot_labels(plot_title, x_label, y_label, title_fontsize = 14, axis_fontsize = 13):\n",
    "    plt.title(plot_title, fontsize=title_fontsize)\n",
    "    plt.xlabel(x_label, fontsize=axis_fontsize)\n",
    "    plt.ylabel(y_label, fontsize=axis_fontsize);"
   ]
  },
  {
   "cell_type": "markdown",
   "metadata": {},
   "source": [
    "### 1. Which movie runtimes are associated with high revenues?\n",
    "For this question, the runtime_df will be used."
   ]
  },
  {
   "cell_type": "code",
   "execution_count": 49,
   "metadata": {},
   "outputs": [
    {
     "data": {
      "image/png": "[encoded data removed]",
      "text/plain": [
       "<matplotlib.figure.Figure at 0x7f11e595f2e8>"
      ]
     },
     "metadata": {
      "needs_background": "light"
     },
     "output_type": "display_data"
    }
   ],
   "source": [
    "# What is the distribution of runtime?\n",
    "plt.hist(runtime_df.runtime)\n",
    "set_plot_labels('Distribution of Runtime', 'Runtime', 'Number of movies')"
   ]
  },
  {
   "cell_type": "markdown",
   "metadata": {},
   "source": [
    "From the histogram above, most of the movies in the dataset are not longer than 200 minutes."
   ]
  },
  {
   "cell_type": "code",
   "execution_count": 52,
   "metadata": {},
   "outputs": [
    {
     "data": {
      "image/png": "[encoded data removed]",
      "text/plain": [
       "<matplotlib.figure.Figure at 0x7f11ea2d9c18>"
      ]
     },
     "metadata": {
      "needs_background": "light"
     },
     "output_type": "display_data"
    }
   ],
   "source": [
    "# What is the revenue level associated with different runtimes?\n",
    "runtime_df.groupby('runtime_bins')['revenue_adj'].mean().plot(kind='bar')\n",
    "set_plot_labels('Revenue associated with different Runtimes', 'Runtime', 'Adjusted revenue in billions')"
   ]
  },
  {
   "cell_type": "markdown",
   "metadata": {},
   "source": [
    "From the bar chart above, it seems that movies that have runtimes in the range of 180 to 300 minutes are associated with higher revenues on average than the others."
   ]
  },
  {
   "cell_type": "markdown",
   "metadata": {},
   "source": [
    "### 2. What movie ratings, based on the vote average, are associated with high revenues?"
   ]
  },
  {
   "cell_type": "code",
   "execution_count": 53,
   "metadata": {},
   "outputs": [
    {
     "data": {
      "image/png": "[encoded data removed]",
      "text/plain": [
       "<matplotlib.figure.Figure at 0x7f11e5902668>"
      ]
     },
     "metadata": {
      "needs_background": "light"
     },
     "output_type": "display_data"
    }
   ],
   "source": [
    "# Is there any type of relationship between vote average and revenue?\n",
    "plt.scatter(movies_df.vote_average, movies_df.revenue_adj)\n",
    "set_plot_labels('Relationship between Vote Average and Revenue', 'Vote Average', 'Adjusted revenue in billions')"
   ]
  },
  {
   "cell_type": "markdown",
   "metadata": {},
   "source": [
    "From the scatter chart above, there is no clear relationship between adjusted revenue and vote average"
   ]
  },
  {
   "cell_type": "code",
   "execution_count": 54,
   "metadata": {},
   "outputs": [
    {
     "data": {
      "image/png": "[encoded data removed]",
      "text/plain": [
       "<matplotlib.figure.Figure at 0x7f11e5912780>"
      ]
     },
     "metadata": {
      "needs_background": "light"
     },
     "output_type": "display_data"
    }
   ],
   "source": [
    "# What is the revenue level associated with different ratings?\n",
    "movies_df.groupby('vote_average_bins')['revenue_adj'].mean().plot(kind='bar')\n",
    "set_plot_labels('Revenue associated with different Ratings', 'Rating', 'Adjusted revenue in billions')"
   ]
  },
  {
   "cell_type": "markdown",
   "metadata": {},
   "source": [
    "As the bar chart above shows, movies with a vote average above 5 are associated with a higher revenues , on average, than movies with a lower rating."
   ]
  },
  {
   "cell_type": "markdown",
   "metadata": {},
   "source": [
    "### 3. How has mean revenue from movies changed over time?"
   ]
  },
  {
   "cell_type": "code",
   "execution_count": 55,
   "metadata": {},
   "outputs": [
    {
     "data": {
      "image/png": "[encoded data removed]",
      "text/plain": [
       "<matplotlib.figure.Figure at 0x7f11ea45e208>"
      ]
     },
     "metadata": {
      "needs_background": "light"
     },
     "output_type": "display_data"
    }
   ],
   "source": [
    "# Revenue trend\n",
    "revenue_trend = movies_df.groupby('release_year')['revenue_adj'].mean()\n",
    "\n",
    "# create the line chart from the revenue_trend series\n",
    "plt.plot(revenue_trend.index, revenue_trend.values)\n",
    "set_plot_labels('Average Revenue Trend', 'Release Year', 'Adjusted revenue in billions')"
   ]
  },
  {
   "cell_type": "markdown",
   "metadata": {},
   "source": [
    "The line chart shows that on average, movie revenues plummeted in the mid 1960's before increasing in the late 1960's. Average revenues reached a peak in the 1970's but dropped in the 1980's and have been on a steady decline into the 2000's"
   ]
  },
  {
   "cell_type": "markdown",
   "metadata": {},
   "source": [
    "<a id='conclusions'></a>\n",
    "## Conclusions"
   ]
  },
  {
   "cell_type": "markdown",
   "metadata": {},
   "source": [
    "### Summary of findings\n",
    "\n",
    "#### 1. Which movie runtimes are associated with high revenues?\n",
    "* On average, it seems that movies that have runtimes in the range of 180 minutes to 300 minutes are associated with higher revenue than shorter or longer movies.\n",
    "\n",
    "#### 2. What movie ratings, based on the vote average, are associated with high revenues?\n",
    "* On average, movies with a vote average above 5 are associated with a higher level of revenue than movies with lower ratings.\n",
    "\n",
    "#### 3. How has the average revenue from movies changed over time?\n",
    "* On average, movie revenues plummeted in the mid 1960's before reaching a peak in the 1970's but dropped in the 1980's and have been on a steady decline into the 2000's.\n",
    "\n",
    "### Limitations\n",
    "* In this analysis, an assumption was made that runtime is in minutes although it is not explicitly stated any where in the dataset-related documentation. This is a limitation because it is also possible that some of the runtime values would have been in hours (for example, the really small values) or seconds (for example, the really large values).\n",
    "* It is not clear whether all the revenue values in the dataset are in the same currency, which would make the comparisons across different variables difficult. Nonetheless, this analysis assumes that all the revenue values are in the same currency.\n",
    "\n",
    "### Further research\n",
    "Since most of the movies that have runtimes in the range of 180 minutes to 300 minutes seem to be associated with higher revenues on average, it would be interesting to investigate what genres make up most of the movies in this range. Similarly, further investigation can be conducted on what genres attract better ratings and thus associated with higher levels of revenue as per the findings in the second question."
   ]
  }
 ],
 "metadata": {
  "kernelspec": {
   "display_name": "Python 3",
   "language": "python",
   "name": "python3"
  },
  "language_info": {
   "codemirror_mode": {
    "name": "ipython",
    "version": 3
   },
   "file_extension": ".py",
   "mimetype": "text/x-python",
   "name": "python",
   "nbconvert_exporter": "python",
   "pygments_lexer": "ipython3",
   "version": "3.6.13"
  }
 },
 "nbformat": 4,
 "nbformat_minor": 2
}
